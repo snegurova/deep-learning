{
 "cells": [
  {
   "cell_type": "code",
   "execution_count": 3,
   "metadata": {
    "_cell_guid": "b1076dfc-b9ad-4769-8c92-a6c4dae69d19",
    "_uuid": "8f2839f25d086af736a60e9eeb907d3b93b6e0e5",
    "execution": {
     "iopub.execute_input": "2025-04-06T21:21:56.493008Z",
     "iopub.status.busy": "2025-04-06T21:21:56.492682Z",
     "iopub.status.idle": "2025-04-06T21:22:16.281683Z",
     "shell.execute_reply": "2025-04-06T21:22:16.281013Z",
     "shell.execute_reply.started": "2025-04-06T21:21:56.492978Z"
    },
    "trusted": true
   },
   "outputs": [
    {
     "name": "stdout",
     "output_type": "stream",
     "text": [
      "[nltk_data] Downloading package stopwords to /usr/share/nltk_data...\n",
      "[nltk_data]   Unzipping corpora/stopwords.zip.\n"
     ]
    }
   ],
   "source": [
    "import numpy as np\n",
    "import pandas as pd\n",
    "import matplotlib.pyplot as plt\n",
    "import seaborn as sns\n",
    "import re\n",
    "import string\n",
    "\n",
    "from sklearn.model_selection import train_test_split\n",
    "from sklearn.feature_extraction.text import CountVectorizer, TfidfVectorizer\n",
    "from sklearn.linear_model import LogisticRegression\n",
    "from sklearn.ensemble import RandomForestClassifier\n",
    "from sklearn.metrics import accuracy_score, roc_auc_score, classification_report\n",
    "\n",
    "import nltk\n",
    "nltk.download('stopwords')\n",
    "from nltk.corpus import stopwords\n",
    "from nltk.stem import SnowballStemmer\n",
    "\n",
    "from gensim.models import KeyedVectors\n",
    "from tqdm.notebook import tqdm"
   ]
  },
  {
   "cell_type": "code",
   "execution_count": 4,
   "metadata": {
    "execution": {
     "iopub.execute_input": "2025-04-06T21:22:16.283327Z",
     "iopub.status.busy": "2025-04-06T21:22:16.282738Z",
     "iopub.status.idle": "2025-04-06T21:22:16.548200Z",
     "shell.execute_reply": "2025-04-06T21:22:16.547189Z",
     "shell.execute_reply.started": "2025-04-06T21:22:16.283302Z"
    },
    "trusted": true
   },
   "outputs": [
    {
     "data": {
      "image/png": "[encoded data removed]",
      "text/plain": [
       "<Figure size 640x480 with 1 Axes>"
      ]
     },
     "metadata": {},
     "output_type": "display_data"
    }
   ],
   "source": [
    "df = pd.read_csv('/kaggle/input/email-spam-detection-dataset-classification/spam.csv', encoding='latin-1')\n",
    "df = df[['v1', 'v2']]\n",
    "df.columns = ['label', 'text']\n",
    "df['label'] = df['label'].map({'ham': 0, 'spam': 1})\n",
    "\n",
    "sns.countplot(x='label', data=df)\n",
    "plt.title(\"Розподіл спам/ham\")\n",
    "plt.show()\n"
   ]
  },
  {
   "cell_type": "code",
   "execution_count": 5,
   "metadata": {
    "execution": {
     "iopub.execute_input": "2025-04-06T21:22:16.549762Z",
     "iopub.status.busy": "2025-04-06T21:22:16.549536Z",
     "iopub.status.idle": "2025-04-06T21:22:17.076650Z",
     "shell.execute_reply": "2025-04-06T21:22:17.076044Z",
     "shell.execute_reply.started": "2025-04-06T21:22:16.549741Z"
    },
    "trusted": true
   },
   "outputs": [],
   "source": [
    "stop_words = set(stopwords.words('english'))\n",
    "stemmer = SnowballStemmer(\"english\")\n",
    "\n",
    "def clean_text(text):\n",
    "    text = text.lower()\n",
    "    text = re.sub(f\"[{string.punctuation}]\", \"\", text)\n",
    "    text = re.sub(\"\\d+\", \"\", text)\n",
    "    tokens = text.split()\n",
    "    tokens = [stemmer.stem(word) for word in tokens if word not in stop_words]\n",
    "    return \" \".join(tokens)\n",
    "\n",
    "df['clean_text'] = df['text'].apply(clean_text)"
   ]
  },
  {
   "cell_type": "code",
   "execution_count": 6,
   "metadata": {
    "execution": {
     "iopub.execute_input": "2025-04-06T21:22:17.078024Z",
     "iopub.status.busy": "2025-04-06T21:22:17.077797Z",
     "iopub.status.idle": "2025-04-06T21:22:17.086162Z",
     "shell.execute_reply": "2025-04-06T21:22:17.085327Z",
     "shell.execute_reply.started": "2025-04-06T21:22:17.078004Z"
    },
    "trusted": true
   },
   "outputs": [],
   "source": [
    "X_train, X_val, y_train, y_val = train_test_split(\n",
    "    df['clean_text'], \n",
    "    df['label'], \n",
    "    test_size=0.2, \n",
    "    stratify=df['label'], \n",
    "    random_state=42\n",
    "    )"
   ]
  },
  {
   "cell_type": "code",
   "execution_count": 7,
   "metadata": {
    "execution": {
     "iopub.execute_input": "2025-04-06T21:22:17.087344Z",
     "iopub.status.busy": "2025-04-06T21:22:17.087040Z",
     "iopub.status.idle": "2025-04-06T21:22:17.367514Z",
     "shell.execute_reply": "2025-04-06T21:22:17.366614Z",
     "shell.execute_reply.started": "2025-04-06T21:22:17.087322Z"
    },
    "trusted": true
   },
   "outputs": [],
   "source": [
    "# BoW\n",
    "bow_vectorizer = CountVectorizer(max_features=5000, ngram_range=(1,2))\n",
    "X_train_bow = bow_vectorizer.fit_transform(X_train)\n",
    "X_val_bow = bow_vectorizer.transform(X_val)\n",
    "\n",
    "# TF-IDF\n",
    "tfidf_vectorizer = TfidfVectorizer(max_features=5000, ngram_range=(1,2))\n",
    "X_train_tfidf = tfidf_vectorizer.fit_transform(X_train)\n",
    "X_val_tfidf = tfidf_vectorizer.transform(X_val)"
   ]
  },
  {
   "cell_type": "code",
   "execution_count": 8,
   "metadata": {
    "execution": {
     "iopub.execute_input": "2025-04-06T21:22:17.368514Z",
     "iopub.status.busy": "2025-04-06T21:22:17.368279Z",
     "iopub.status.idle": "2025-04-06T21:22:28.037680Z",
     "shell.execute_reply": "2025-04-06T21:22:28.036855Z",
     "shell.execute_reply.started": "2025-04-06T21:22:17.368494Z"
    },
    "trusted": true
   },
   "outputs": [
    {
     "data": {
      "application/vnd.jupyter.widget-view+json": {
       "model_id": "dc5357eef0784d88934b67448edf93c6",
       "version_major": 2,
       "version_minor": 0
      },
      "text/plain": [
       "  0%|          | 0/4457 [00:00<?, ?it/s]"
      ]
     },
     "metadata": {},
     "output_type": "display_data"
    },
    {
     "data": {
      "application/vnd.jupyter.widget-view+json": {
       "model_id": "8817e0ecc736426ebcecfa519983325a",
       "version_major": 2,
       "version_minor": 0
      },
      "text/plain": [
       "  0%|          | 0/1115 [00:00<?, ?it/s]"
      ]
     },
     "metadata": {},
     "output_type": "display_data"
    }
   ],
   "source": [
    "embeddings_index = {}\n",
    "with open(\"/kaggle/input/glove-embeding/glove.6B.100d.txt\", encoding='utf8') as f:\n",
    "    for line in f:\n",
    "        values = line.split()\n",
    "        word = values[0]\n",
    "        vectors = np.asarray(values[1:], dtype='float32')\n",
    "        embeddings_index[word] = vectors\n",
    "\n",
    "embedding_dim = 100\n",
    "\n",
    "def get_embedding_vector(text):\n",
    "    words = text.split()\n",
    "    word_vecs = [embeddings_index.get(w) for w in words if w in embeddings_index]\n",
    "\n",
    "    if len(word_vecs) == 0:\n",
    "        return np.zeros(embedding_dim)\n",
    "\n",
    "    return np.mean(word_vecs, axis=0)\n",
    "\n",
    "X_train_glove = np.vstack([get_embedding_vector(t) for t in tqdm(X_train)])\n",
    "X_val_glove = np.vstack([get_embedding_vector(t) for t in tqdm(X_val)])"
   ]
  },
  {
   "cell_type": "code",
   "execution_count": 9,
   "metadata": {
    "execution": {
     "iopub.execute_input": "2025-04-06T21:22:28.038843Z",
     "iopub.status.busy": "2025-04-06T21:22:28.038597Z",
     "iopub.status.idle": "2025-04-06T21:22:30.782881Z",
     "shell.execute_reply": "2025-04-06T21:22:30.782229Z",
     "shell.execute_reply.started": "2025-04-06T21:22:28.038823Z"
    },
    "trusted": true
   },
   "outputs": [],
   "source": [
    "# Logistic Regression (BoW)\n",
    "lr_bow = LogisticRegression()\n",
    "lr_bow.fit(X_train_bow, y_train)\n",
    "pred_bow = lr_bow.predict(X_val_bow)\n",
    "\n",
    "# Logistic Regression (TF-IDF)\n",
    "lr_tfidf = LogisticRegression()\n",
    "lr_tfidf.fit(X_train_tfidf, y_train)\n",
    "pred_tfidf = lr_tfidf.predict(X_val_tfidf)\n",
    "\n",
    "# Random Forest (GloVe)\n",
    "rf_glove = RandomForestClassifier()\n",
    "rf_glove.fit(X_train_glove, y_train)\n",
    "pred_glove = rf_glove.predict(X_val_glove)"
   ]
  },
  {
   "cell_type": "code",
   "execution_count": 10,
   "metadata": {
    "execution": {
     "iopub.execute_input": "2025-04-06T21:22:30.784775Z",
     "iopub.status.busy": "2025-04-06T21:22:30.784556Z",
     "iopub.status.idle": "2025-04-06T21:22:30.823654Z",
     "shell.execute_reply": "2025-04-06T21:22:30.822978Z",
     "shell.execute_reply.started": "2025-04-06T21:22:30.784756Z"
    },
    "trusted": true
   },
   "outputs": [
    {
     "name": "stdout",
     "output_type": "stream",
     "text": [
      "BoW Accuracy: 0.9820627802690582\n",
      "BoW AUC: 0.9328859060402684\n",
      "              precision    recall  f1-score   support\n",
      "\n",
      "           0       0.98      1.00      0.99       966\n",
      "           1       1.00      0.87      0.93       149\n",
      "\n",
      "    accuracy                           0.98      1115\n",
      "   macro avg       0.99      0.93      0.96      1115\n",
      "weighted avg       0.98      0.98      0.98      1115\n",
      "\n",
      "TF-IDF Accuracy: 0.9695067264573991\n",
      "TF-IDF AUC: 0.8915822529770588\n",
      "              precision    recall  f1-score   support\n",
      "\n",
      "           0       0.97      1.00      0.98       966\n",
      "           1       0.98      0.79      0.87       149\n",
      "\n",
      "    accuracy                           0.97      1115\n",
      "   macro avg       0.98      0.89      0.93      1115\n",
      "weighted avg       0.97      0.97      0.97      1115\n",
      "\n",
      "GloVe Accuracy: 0.9533632286995516\n",
      "GloVe AUC: 0.8283414620589993\n",
      "              precision    recall  f1-score   support\n",
      "\n",
      "           0       0.95      1.00      0.97       966\n",
      "           1       0.99      0.66      0.79       149\n",
      "\n",
      "    accuracy                           0.95      1115\n",
      "   macro avg       0.97      0.83      0.88      1115\n",
      "weighted avg       0.96      0.95      0.95      1115\n",
      "\n"
     ]
    }
   ],
   "source": [
    "def evaluate(y_true, y_pred, name):\n",
    "    print(f\"{name} Accuracy:\", accuracy_score(y_true, y_pred))\n",
    "    print(f\"{name} AUC:\", roc_auc_score(y_true, y_pred))\n",
    "    print(classification_report(y_true, y_pred))\n",
    "\n",
    "evaluate(y_val, pred_bow, \"BoW\")\n",
    "evaluate(y_val, pred_tfidf, \"TF-IDF\")\n",
    "evaluate(y_val, pred_glove, \"GloVe\")"
   ]
  },
  {
   "cell_type": "markdown",
   "metadata": {},
   "source": [
    "## Висновок\n",
    "\n",
    "У цьому проєкті було реалізовано три підходи до представлення текстових даних для задачі класифікації електронних листів на спам та ham:\n",
    "\n",
    "- **BoW (Bag of Words)**\n",
    "- **TF-IDF**\n",
    "- **GloVe (попередньо навчені ембединги)**\n",
    "\n",
    "### Результати:\n",
    "\n",
    "| Метод         | Accuracy | AUC   | Recall (spam) | F1-score (spam) |\n",
    "|---------------|----------|-------|----------------|-----------------|\n",
    "| **BoW**       | 98.2%    | 0.933 | 0.87           | 0.93            |\n",
    "| **TF-IDF**    | 96.7%    | 0.882 | 0.77           | 0.86            |\n",
    "| **GloVe**     | 95.4%    | 0.832 | 0.66           | 0.80            |\n",
    "\n",
    "### Аналіз:\n",
    "\n",
    "- **BoW** показав найкращий результат серед усіх методів. Незважаючи на свою простоту, він досяг високої точності та здатності виявляти спам.\n",
    "- **TF-IDF** продемонстрував хорошу якість, але мав трохи нижчий recall, що означає більшу кількість пропущених спамів.\n",
    "- **GloVe** надає можливість враховувати семантику слів, але у цій задачі (на невеликому датасеті) поступився простішим підходам.\n",
    "\n",
    "### Рекомендації:\n",
    "\n",
    "- **BoW** — оптимальний вибір для цього завдання, коли потрібно досягти максимальної точності з мінімальними ресурсами.\n",
    "- **GloVe** має сенс використовувати в поєднанні з глибокими моделями (LSTM, GRU, BERT) та більшими об’ємами тексту.\n",
    "- Наступним кроком може бути використання глибоких моделей на базі GloVe з GPU-оптимізацією (наприклад, LSTM на TensorFlow).\n",
    "\n"
   ]
  },
  {
   "cell_type": "code",
   "execution_count": 11,
   "metadata": {
    "execution": {
     "iopub.execute_input": "2025-04-06T21:22:30.824733Z",
     "iopub.status.busy": "2025-04-06T21:22:30.824512Z",
     "iopub.status.idle": "2025-04-06T21:22:30.828760Z",
     "shell.execute_reply": "2025-04-06T21:22:30.827896Z",
     "shell.execute_reply.started": "2025-04-06T21:22:30.824714Z"
    },
    "trusted": true
   },
   "outputs": [],
   "source": [
    "import tensorflow as tf\n",
    "from tensorflow.keras.models import Sequential\n",
    "from tensorflow.keras.layers import Embedding, LSTM, Dense, Dropout, Bidirectional\n",
    "from tensorflow.keras.preprocessing.text import Tokenizer\n",
    "from tensorflow.keras.preprocessing.sequence import pad_sequences"
   ]
  },
  {
   "cell_type": "code",
   "execution_count": 13,
   "metadata": {
    "execution": {
     "iopub.execute_input": "2025-04-06T21:22:37.894815Z",
     "iopub.status.busy": "2025-04-06T21:22:37.894490Z",
     "iopub.status.idle": "2025-04-06T21:22:38.039841Z",
     "shell.execute_reply": "2025-04-06T21:22:38.038960Z",
     "shell.execute_reply.started": "2025-04-06T21:22:37.894784Z"
    },
    "trusted": true
   },
   "outputs": [],
   "source": [
    "MAX_VOCAB_SIZE = 10000\n",
    "MAX_LEN = 100\n",
    "\n",
    "tokenizer = Tokenizer(num_words=MAX_VOCAB_SIZE)\n",
    "tokenizer.fit_on_texts(X_train)\n",
    "\n",
    "X_train_seq = tokenizer.texts_to_sequences(X_train)\n",
    "X_val_seq = tokenizer.texts_to_sequences(X_val)\n",
    "\n",
    "X_train_pad = pad_sequences(X_train_seq, maxlen=MAX_LEN)\n",
    "X_val_pad = pad_sequences(X_val_seq, maxlen=MAX_LEN)"
   ]
  },
  {
   "cell_type": "code",
   "execution_count": 14,
   "metadata": {
    "execution": {
     "iopub.execute_input": "2025-04-06T21:23:07.799333Z",
     "iopub.status.busy": "2025-04-06T21:23:07.799003Z",
     "iopub.status.idle": "2025-04-06T21:23:16.050057Z",
     "shell.execute_reply": "2025-04-06T21:23:16.049410Z",
     "shell.execute_reply.started": "2025-04-06T21:23:07.799308Z"
    },
    "trusted": true
   },
   "outputs": [],
   "source": [
    "embedding_index = {}\n",
    "embedding_dim = 100\n",
    "with open('/kaggle/input/glove-embeding/glove.6B.100d.txt', encoding='utf8') as f:\n",
    "    for line in f:\n",
    "        values = line.split()\n",
    "        word = values[0]\n",
    "        coefs = np.asarray(values[1:], dtype='float32')\n",
    "        embedding_index[word] = coefs\n",
    "\n",
    "word_index = tokenizer.word_index\n",
    "num_words = min(MAX_VOCAB_SIZE, len(word_index) + 1)\n",
    "embedding_matrix = np.zeros((num_words, embedding_dim))\n",
    "\n",
    "for word, i in word_index.items():\n",
    "    if i < MAX_VOCAB_SIZE:\n",
    "        embedding_vector = embedding_index.get(word)\n",
    "        if embedding_vector is not None:\n",
    "            embedding_matrix[i] = embedding_vector"
   ]
  },
  {
   "cell_type": "code",
   "execution_count": 15,
   "metadata": {
    "execution": {
     "iopub.execute_input": "2025-04-06T21:23:34.467583Z",
     "iopub.status.busy": "2025-04-06T21:23:34.467303Z",
     "iopub.status.idle": "2025-04-06T21:23:36.943849Z",
     "shell.execute_reply": "2025-04-06T21:23:36.943205Z",
     "shell.execute_reply.started": "2025-04-06T21:23:34.467561Z"
    },
    "trusted": true
   },
   "outputs": [
    {
     "name": "stderr",
     "output_type": "stream",
     "text": [
      "/usr/local/lib/python3.10/dist-packages/keras/src/layers/core/embedding.py:90: UserWarning: Argument `input_length` is deprecated. Just remove it.\n",
      "  warnings.warn(\n"
     ]
    },
    {
     "data": {
      "text/html": [
       "<pre style=\"white-space:pre;overflow-x:auto;line-height:normal;font-family:Menlo,'DejaVu Sans Mono',consolas,'Courier New',monospace\"><span style=\"font-weight: bold\">Model: \"sequential\"</span>\n",
       "</pre>\n"
      ],
      "text/plain": [
       "\u001b[1mModel: \"sequential\"\u001b[0m\n"
      ]
     },
     "metadata": {},
     "output_type": "display_data"
    },
    {
     "data": {
      "text/html": [
       "<pre style=\"white-space:pre;overflow-x:auto;line-height:normal;font-family:Menlo,'DejaVu Sans Mono',consolas,'Courier New',monospace\">┏━━━━━━━━━━━━━━━━━━━━━━━━━━━━━━━━━━━━━━┳━━━━━━━━━━━━━━━━━━━━━━━━━━━━━┳━━━━━━━━━━━━━━━━━┓\n",
       "┃<span style=\"font-weight: bold\"> Layer (type)                         </span>┃<span style=\"font-weight: bold\"> Output Shape                </span>┃<span style=\"font-weight: bold\">         Param # </span>┃\n",
       "┡━━━━━━━━━━━━━━━━━━━━━━━━━━━━━━━━━━━━━━╇━━━━━━━━━━━━━━━━━━━━━━━━━━━━━╇━━━━━━━━━━━━━━━━━┩\n",
       "│ embedding (<span style=\"color: #0087ff; text-decoration-color: #0087ff\">Embedding</span>)                │ ?                           │         <span style=\"color: #00af00; text-decoration-color: #00af00\">638,900</span> │\n",
       "├──────────────────────────────────────┼─────────────────────────────┼─────────────────┤\n",
       "│ bidirectional (<span style=\"color: #0087ff; text-decoration-color: #0087ff\">Bidirectional</span>)        │ ?                           │     <span style=\"color: #00af00; text-decoration-color: #00af00\">0</span> (unbuilt) │\n",
       "├──────────────────────────────────────┼─────────────────────────────┼─────────────────┤\n",
       "│ dropout (<span style=\"color: #0087ff; text-decoration-color: #0087ff\">Dropout</span>)                    │ ?                           │     <span style=\"color: #00af00; text-decoration-color: #00af00\">0</span> (unbuilt) │\n",
       "├──────────────────────────────────────┼─────────────────────────────┼─────────────────┤\n",
       "│ dense (<span style=\"color: #0087ff; text-decoration-color: #0087ff\">Dense</span>)                        │ ?                           │     <span style=\"color: #00af00; text-decoration-color: #00af00\">0</span> (unbuilt) │\n",
       "└──────────────────────────────────────┴─────────────────────────────┴─────────────────┘\n",
       "</pre>\n"
      ],
      "text/plain": [
       "┏━━━━━━━━━━━━━━━━━━━━━━━━━━━━━━━━━━━━━━┳━━━━━━━━━━━━━━━━━━━━━━━━━━━━━┳━━━━━━━━━━━━━━━━━┓\n",
       "┃\u001b[1m \u001b[0m\u001b[1mLayer (type)                        \u001b[0m\u001b[1m \u001b[0m┃\u001b[1m \u001b[0m\u001b[1mOutput Shape               \u001b[0m\u001b[1m \u001b[0m┃\u001b[1m \u001b[0m\u001b[1m        Param #\u001b[0m\u001b[1m \u001b[0m┃\n",
       "┡━━━━━━━━━━━━━━━━━━━━━━━━━━━━━━━━━━━━━━╇━━━━━━━━━━━━━━━━━━━━━━━━━━━━━╇━━━━━━━━━━━━━━━━━┩\n",
       "│ embedding (\u001b[38;5;33mEmbedding\u001b[0m)                │ ?                           │         \u001b[38;5;34m638,900\u001b[0m │\n",
       "├──────────────────────────────────────┼─────────────────────────────┼─────────────────┤\n",
       "│ bidirectional (\u001b[38;5;33mBidirectional\u001b[0m)        │ ?                           │     \u001b[38;5;34m0\u001b[0m (unbuilt) │\n",
       "├──────────────────────────────────────┼─────────────────────────────┼─────────────────┤\n",
       "│ dropout (\u001b[38;5;33mDropout\u001b[0m)                    │ ?                           │     \u001b[38;5;34m0\u001b[0m (unbuilt) │\n",
       "├──────────────────────────────────────┼─────────────────────────────┼─────────────────┤\n",
       "│ dense (\u001b[38;5;33mDense\u001b[0m)                        │ ?                           │     \u001b[38;5;34m0\u001b[0m (unbuilt) │\n",
       "└──────────────────────────────────────┴─────────────────────────────┴─────────────────┘\n"
      ]
     },
     "metadata": {},
     "output_type": "display_data"
    },
    {
     "data": {
      "text/html": [
       "<pre style=\"white-space:pre;overflow-x:auto;line-height:normal;font-family:Menlo,'DejaVu Sans Mono',consolas,'Courier New',monospace\"><span style=\"font-weight: bold\"> Total params: </span><span style=\"color: #00af00; text-decoration-color: #00af00\">638,900</span> (2.44 MB)\n",
       "</pre>\n"
      ],
      "text/plain": [
       "\u001b[1m Total params: \u001b[0m\u001b[38;5;34m638,900\u001b[0m (2.44 MB)\n"
      ]
     },
     "metadata": {},
     "output_type": "display_data"
    },
    {
     "data": {
      "text/html": [
       "<pre style=\"white-space:pre;overflow-x:auto;line-height:normal;font-family:Menlo,'DejaVu Sans Mono',consolas,'Courier New',monospace\"><span style=\"font-weight: bold\"> Trainable params: </span><span style=\"color: #00af00; text-decoration-color: #00af00\">0</span> (0.00 B)\n",
       "</pre>\n"
      ],
      "text/plain": [
       "\u001b[1m Trainable params: \u001b[0m\u001b[38;5;34m0\u001b[0m (0.00 B)\n"
      ]
     },
     "metadata": {},
     "output_type": "display_data"
    },
    {
     "data": {
      "text/html": [
       "<pre style=\"white-space:pre;overflow-x:auto;line-height:normal;font-family:Menlo,'DejaVu Sans Mono',consolas,'Courier New',monospace\"><span style=\"font-weight: bold\"> Non-trainable params: </span><span style=\"color: #00af00; text-decoration-color: #00af00\">638,900</span> (2.44 MB)\n",
       "</pre>\n"
      ],
      "text/plain": [
       "\u001b[1m Non-trainable params: \u001b[0m\u001b[38;5;34m638,900\u001b[0m (2.44 MB)\n"
      ]
     },
     "metadata": {},
     "output_type": "display_data"
    }
   ],
   "source": [
    "model = Sequential([\n",
    "    Embedding(input_dim=num_words,\n",
    "              output_dim=embedding_dim,\n",
    "              weights=[embedding_matrix],\n",
    "              input_length=MAX_LEN,\n",
    "              trainable=False),\n",
    "    Bidirectional(LSTM(64, return_sequences=False)),\n",
    "    Dropout(0.5),\n",
    "    Dense(1, activation='sigmoid')\n",
    "])\n",
    "\n",
    "model.compile(loss='binary_crossentropy', optimizer='adam', metrics=['accuracy'])\n",
    "model.summary()"
   ]
  },
  {
   "cell_type": "code",
   "execution_count": 16,
   "metadata": {
    "execution": {
     "iopub.execute_input": "2025-04-06T21:23:56.885223Z",
     "iopub.status.busy": "2025-04-06T21:23:56.884883Z",
     "iopub.status.idle": "2025-04-06T21:24:06.296331Z",
     "shell.execute_reply": "2025-04-06T21:24:06.295650Z",
     "shell.execute_reply.started": "2025-04-06T21:23:56.885195Z"
    },
    "trusted": true
   },
   "outputs": [
    {
     "name": "stdout",
     "output_type": "stream",
     "text": [
      "Epoch 1/5\n",
      "\u001b[1m70/70\u001b[0m \u001b[32m━━━━━━━━━━━━━━━━━━━━\u001b[0m\u001b[37m\u001b[0m \u001b[1m6s\u001b[0m 21ms/step - accuracy: 0.8364 - loss: 0.4390 - val_accuracy: 0.9516 - val_loss: 0.1654\n",
      "Epoch 2/5\n",
      "\u001b[1m70/70\u001b[0m \u001b[32m━━━━━━━━━━━━━━━━━━━━\u001b[0m\u001b[37m\u001b[0m \u001b[1m1s\u001b[0m 11ms/step - accuracy: 0.9539 - loss: 0.1425 - val_accuracy: 0.9525 - val_loss: 0.1336\n",
      "Epoch 3/5\n",
      "\u001b[1m70/70\u001b[0m \u001b[32m━━━━━━━━━━━━━━━━━━━━\u001b[0m\u001b[37m\u001b[0m \u001b[1m1s\u001b[0m 10ms/step - accuracy: 0.9661 - loss: 0.1106 - val_accuracy: 0.9605 - val_loss: 0.1301\n",
      "Epoch 4/5\n",
      "\u001b[1m70/70\u001b[0m \u001b[32m━━━━━━━━━━━━━━━━━━━━\u001b[0m\u001b[37m\u001b[0m \u001b[1m1s\u001b[0m 11ms/step - accuracy: 0.9756 - loss: 0.0790 - val_accuracy: 0.9704 - val_loss: 0.1050\n",
      "Epoch 5/5\n",
      "\u001b[1m70/70\u001b[0m \u001b[32m━━━━━━━━━━━━━━━━━━━━\u001b[0m\u001b[37m\u001b[0m \u001b[1m1s\u001b[0m 10ms/step - accuracy: 0.9750 - loss: 0.0835 - val_accuracy: 0.9632 - val_loss: 0.1072\n"
     ]
    }
   ],
   "source": [
    "with tf.device('/GPU:0'):\n",
    "    history = model.fit(\n",
    "        X_train_pad, y_train,\n",
    "        validation_data=(X_val_pad, y_val),\n",
    "        epochs=5,\n",
    "        batch_size=64,\n",
    "        verbose=1\n",
    "    )"
   ]
  },
  {
   "cell_type": "code",
   "execution_count": 18,
   "metadata": {
    "execution": {
     "iopub.execute_input": "2025-04-06T21:28:08.733291Z",
     "iopub.status.busy": "2025-04-06T21:28:08.732962Z",
     "iopub.status.idle": "2025-04-06T21:28:09.011802Z",
     "shell.execute_reply": "2025-04-06T21:28:09.010919Z",
     "shell.execute_reply.started": "2025-04-06T21:28:08.733266Z"
    },
    "trusted": true
   },
   "outputs": [
    {
     "name": "stdout",
     "output_type": "stream",
     "text": [
      "\u001b[1m35/35\u001b[0m \u001b[32m━━━━━━━━━━━━━━━━━━━━\u001b[0m\u001b[37m\u001b[0m \u001b[1m0s\u001b[0m 6ms/step\n"
     ]
    }
   ],
   "source": [
    "y_pred_prob = model.predict(X_val_pad)\n",
    "y_pred = (y_pred_prob > 0.5).astype(\"int32\")"
   ]
  },
  {
   "cell_type": "code",
   "execution_count": 20,
   "metadata": {
    "execution": {
     "iopub.execute_input": "2025-04-06T21:29:48.448371Z",
     "iopub.status.busy": "2025-04-06T21:29:48.448062Z",
     "iopub.status.idle": "2025-04-06T21:29:48.474613Z",
     "shell.execute_reply": "2025-04-06T21:29:48.473682Z",
     "shell.execute_reply.started": "2025-04-06T21:29:48.448350Z"
    },
    "trusted": true
   },
   "outputs": [
    {
     "name": "stdout",
     "output_type": "stream",
     "text": [
      "Accuracy: 0.9632\n",
      "AUC: 0.9701\n",
      "Recall (spam): 0.7987\n",
      "F1-score (spam): 0.853\n",
      "\n",
      "Повний звіт:\n",
      "              precision    recall  f1-score   support\n",
      "\n",
      "           0       0.97      0.99      0.98       966\n",
      "           1       0.92      0.80      0.85       149\n",
      "\n",
      "    accuracy                           0.96      1115\n",
      "   macro avg       0.94      0.89      0.92      1115\n",
      "weighted avg       0.96      0.96      0.96      1115\n",
      "\n"
     ]
    }
   ],
   "source": [
    "from sklearn.metrics import precision_score, recall_score, f1_score\n",
    "\n",
    "accuracy = accuracy_score(y_val, y_pred)\n",
    "auc = roc_auc_score(y_val, y_pred_prob)\n",
    "recall_spam = recall_score(y_val, y_pred, pos_label=1)\n",
    "f1_spam = f1_score(y_val, y_pred, pos_label=1)\n",
    "\n",
    "print(\"Accuracy:\", round(accuracy, 4))\n",
    "print(\"AUC:\", round(auc, 4))\n",
    "print(\"Recall (spam):\", round(recall_spam, 4))\n",
    "print(\"F1-score (spam):\", round(f1_spam, 4))\n",
    "\n",
    "print(\"\\nПовний звіт:\")\n",
    "print(classification_report(y_val, y_pred))"
   ]
  },
  {
   "cell_type": "markdown",
   "metadata": {},
   "source": [
    "## Висновок\n",
    "\n",
    "У цьому проєкті була побудована модель **Bidirectional LSTM** з використанням попередньо навчених ембедингів **GloVe (100d)** для задачі класифікації електронних листів на спам та ham.\n",
    "\n",
    "### Результати моделі:\n",
    "\n",
    "| Метрика           | Значення |\n",
    "|-------------------|----------|\n",
    "| **Accuracy**      | 0.9632   |\n",
    "| **AUC**           | 0.9701   |\n",
    "| **Recall (spam)** | 0.7987   |\n",
    "| **F1-score (spam)** | 0.853  |\n",
    "\n",
    "\n",
    "- **Клас 0 (ham)**: F1-score = 0.98 — модель дуже добре розпізнає легітимні повідомлення.\n",
    "- **Клас 1 (spam)**: Recall = 0.80 та F1 = 0.85 — більшість спамів виявлено, проте ще можна покращити виявлення.\n",
    "- **Загальна точність** моделі склала **96.3%**, що свідчить про високу якість класифікації.\n",
    "\n",
    "### Висновок:\n",
    "\n",
    "- Модель LSTM на GloVe-представленнях тексту показує конкурентоспроможні результати.\n",
    "- Вона підходить для задач виявлення спаму, особливо коли потрібно обробляти текст із врахуванням порядку слів.\n",
    "- Для ще кращого розпізнавання спаму можна:\n",
    "  - Додати class weights.\n",
    "  - Спробувати більш складні архітектури (LSTM + Attention, або BERT).\n"
   ]
  }
 ],
 "metadata": {
  "kaggle": {
   "accelerator": "nvidiaTeslaT4",
   "dataSources": [
    {
     "datasetId": 1961542,
     "sourceId": 3235802,
     "sourceType": "datasetVersion"
    },
    {
     "datasetId": 7067989,
     "sourceId": 11301896,
     "sourceType": "datasetVersion"
    }
   ],
   "dockerImageVersionId": 30919,
   "isGpuEnabled": true,
   "isInternetEnabled": true,
   "language": "python",
   "sourceType": "notebook"
  },
  "kernelspec": {
   "display_name": "env_mlf",
   "language": "python",
   "name": "python3"
  },
  "language_info": {
   "codemirror_mode": {
    "name": "ipython",
    "version": 3
   },
   "file_extension": ".py",
   "mimetype": "text/x-python",
   "name": "python",
   "nbconvert_exporter": "python",
   "pygments_lexer": "ipython3",
   "version": "3.12.2"
  }
 },
 "nbformat": 4,
 "nbformat_minor": 4
}
